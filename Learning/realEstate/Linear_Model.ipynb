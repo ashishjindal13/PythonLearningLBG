{
 "cells": [
  {
   "cell_type": "code",
   "execution_count": 1,
   "metadata": {},
   "outputs": [],
   "source": [
    "import pandas as pd\n",
    "from sklearn.tree import DecisionTreeRegressor\n",
    "import numpy as np\n",
    "from sklearn.metrics import mean_absolute_error\n",
    "from sklearn.model_selection import train_test_split\n",
    "\n",
    "train=pd.read_csv(\"../data/realEstate/train.csv\")\n",
    "test=pd.read_csv(\"../data/realEstate/test.csv\")\n",
    "train.fillna(0,inplace=True)\n",
    "test.fillna(0,inplace=True)\n",
    "\n",
    "y=train.SalePrice\n",
    "X=train.select_dtypes(include=[np.number])\n",
    "X.head()\n",
    "X=X.drop(['Id', 'SalePrice'], axis=1)"
   ]
  },
  {
   "cell_type": "code",
   "execution_count": 2,
   "metadata": {},
   "outputs": [],
   "source": [
    "training_X,validation_X,training_y,validation_y=train_test_split(X,y,random_state=0)"
   ]
  },
  {
   "cell_type": "code",
   "execution_count": 3,
   "metadata": {},
   "outputs": [],
   "source": [
    "from sklearn import linear_model"
   ]
  },
  {
   "cell_type": "code",
   "execution_count": 6,
   "metadata": {},
   "outputs": [
    {
     "name": "stdout",
     "output_type": "stream",
     "text": [
      "22372.051491221806\n"
     ]
    }
   ],
   "source": [
    "linear_model_cust =  linear_model.LinearRegression()\n",
    "linear_model_cust.fit(training_X,training_y)\n",
    "predict_linear_model_cust = linear_model_cust.predict(validation_X)\n",
    "print(mean_absolute_error(validation_y, predict_linear_model_cust))"
   ]
  },
  {
   "cell_type": "code",
   "execution_count": null,
   "metadata": {},
   "outputs": [],
   "source": []
  }
 ],
 "metadata": {
  "kernelspec": {
   "display_name": "Python 3",
   "language": "python",
   "name": "python3"
  },
  "language_info": {
   "codemirror_mode": {
    "name": "ipython",
    "version": 3
   },
   "file_extension": ".py",
   "mimetype": "text/x-python",
   "name": "python",
   "nbconvert_exporter": "python",
   "pygments_lexer": "ipython3",
   "version": "3.7.0"
  }
 },
 "nbformat": 4,
 "nbformat_minor": 2
}
